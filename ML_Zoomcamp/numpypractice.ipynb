{
 "cells": [
  {
   "cell_type": "markdown",
   "id": "b27ab79c",
   "metadata": {
    "papermill": {
     "duration": 0.028165,
     "end_time": "2021-09-13T01:52:38.261630",
     "exception": false,
     "start_time": "2021-09-13T01:52:38.233465",
     "status": "completed"
    },
    "tags": []
   },
   "source": [
    "# Machine Learning Zoomcamp\n",
    "\n",
    "\n",
    "## 1.7 Introduction to NumPy\n",
    "\n",
    "\n",
    "Plan:\n",
    "\n",
    "* Creating arrays\n",
    "* Multi-dementional arrays\n",
    "* Randomly generated arrays\n",
    "* Element-wise operations\n",
    "    * Comparison operations\n",
    "    * Logical operations\n",
    "* Summarizing operations"
   ]
  },
  {
   "cell_type": "code",
   "execution_count": 1,
   "id": "1b9586f8",
   "metadata": {
    "execution": {
     "iopub.execute_input": "2021-09-13T01:52:38.326960Z",
     "iopub.status.busy": "2021-09-13T01:52:38.326116Z",
     "iopub.status.idle": "2021-09-13T01:52:38.330244Z",
     "shell.execute_reply": "2021-09-13T01:52:38.329552Z",
     "shell.execute_reply.started": "2021-09-13T01:35:33.938130Z"
    },
    "papermill": {
     "duration": 0.041491,
     "end_time": "2021-09-13T01:52:38.330411",
     "exception": false,
     "start_time": "2021-09-13T01:52:38.288920",
     "status": "completed"
    },
    "tags": []
   },
   "outputs": [],
   "source": [
    "import numpy as np"
   ]
  },
  {
   "cell_type": "code",
   "execution_count": 2,
   "id": "4f83be92",
   "metadata": {
    "execution": {
     "iopub.execute_input": "2021-09-13T01:52:38.392366Z",
     "iopub.status.busy": "2021-09-13T01:52:38.391674Z",
     "iopub.status.idle": "2021-09-13T01:52:38.394799Z",
     "shell.execute_reply": "2021-09-13T01:52:38.395280Z",
     "shell.execute_reply.started": "2021-09-13T01:35:37.673470Z"
    },
    "papermill": {
     "duration": 0.038229,
     "end_time": "2021-09-13T01:52:38.395445",
     "exception": false,
     "start_time": "2021-09-13T01:52:38.357216",
     "status": "completed"
    },
    "tags": []
   },
   "outputs": [
    {
     "data": {
      "text/plain": [
       "<module 'numpy' from '/opt/conda/lib/python3.7/site-packages/numpy/__init__.py'>"
      ]
     },
     "execution_count": 2,
     "metadata": {},
     "output_type": "execute_result"
    }
   ],
   "source": [
    "np"
   ]
  },
  {
   "cell_type": "markdown",
   "id": "1140d754",
   "metadata": {
    "papermill": {
     "duration": 0.02749,
     "end_time": "2021-09-13T01:52:38.452806",
     "exception": false,
     "start_time": "2021-09-13T01:52:38.425316",
     "status": "completed"
    },
    "tags": []
   },
   "source": [
    "## Creating arrays\n"
   ]
  },
  {
   "cell_type": "code",
   "execution_count": 3,
   "id": "7efbf1c6",
   "metadata": {
    "execution": {
     "iopub.execute_input": "2021-09-13T01:52:38.511647Z",
     "iopub.status.busy": "2021-09-13T01:52:38.510634Z",
     "iopub.status.idle": "2021-09-13T01:52:38.516160Z",
     "shell.execute_reply": "2021-09-13T01:52:38.516839Z",
     "shell.execute_reply.started": "2021-09-13T01:36:46.458078Z"
    },
    "papermill": {
     "duration": 0.036744,
     "end_time": "2021-09-13T01:52:38.517021",
     "exception": false,
     "start_time": "2021-09-13T01:52:38.480277",
     "status": "completed"
    },
    "tags": []
   },
   "outputs": [
    {
     "data": {
      "text/plain": [
       "array([0., 0., 0., 0., 0., 0., 0., 0., 0., 0.])"
      ]
     },
     "execution_count": 3,
     "metadata": {},
     "output_type": "execute_result"
    }
   ],
   "source": [
    "np.zeros(10)"
   ]
  },
  {
   "cell_type": "code",
   "execution_count": 4,
   "id": "43e62ff2",
   "metadata": {
    "execution": {
     "iopub.execute_input": "2021-09-13T01:52:38.575703Z",
     "iopub.status.busy": "2021-09-13T01:52:38.574715Z",
     "iopub.status.idle": "2021-09-13T01:52:38.580674Z",
     "shell.execute_reply": "2021-09-13T01:52:38.581201Z",
     "shell.execute_reply.started": "2021-09-13T01:37:21.495013Z"
    },
    "papermill": {
     "duration": 0.037067,
     "end_time": "2021-09-13T01:52:38.581368",
     "exception": false,
     "start_time": "2021-09-13T01:52:38.544301",
     "status": "completed"
    },
    "tags": []
   },
   "outputs": [
    {
     "data": {
      "text/plain": [
       "array([1., 1., 1., 1., 1., 1., 1., 1., 1., 1.])"
      ]
     },
     "execution_count": 4,
     "metadata": {},
     "output_type": "execute_result"
    }
   ],
   "source": [
    "np.ones(10)"
   ]
  },
  {
   "cell_type": "code",
   "execution_count": 5,
   "id": "03980b0b",
   "metadata": {
    "execution": {
     "iopub.execute_input": "2021-09-13T01:52:38.643613Z",
     "iopub.status.busy": "2021-09-13T01:52:38.642764Z",
     "iopub.status.idle": "2021-09-13T01:52:38.645831Z",
     "shell.execute_reply": "2021-09-13T01:52:38.646443Z"
    },
    "papermill": {
     "duration": 0.037607,
     "end_time": "2021-09-13T01:52:38.646611",
     "exception": false,
     "start_time": "2021-09-13T01:52:38.609004",
     "status": "completed"
    },
    "tags": []
   },
   "outputs": [
    {
     "data": {
      "text/plain": [
       "array([2.5, 2.5, 2.5, 2.5, 2.5, 2.5, 2.5, 2.5, 2.5, 2.5])"
      ]
     },
     "execution_count": 5,
     "metadata": {},
     "output_type": "execute_result"
    }
   ],
   "source": [
    "np.full(10, 2.5)"
   ]
  },
  {
   "cell_type": "code",
   "execution_count": 6,
   "id": "187a2cb3",
   "metadata": {
    "execution": {
     "iopub.execute_input": "2021-09-13T01:52:38.706796Z",
     "iopub.status.busy": "2021-09-13T01:52:38.705800Z",
     "iopub.status.idle": "2021-09-13T01:52:38.712755Z",
     "shell.execute_reply": "2021-09-13T01:52:38.713246Z",
     "shell.execute_reply.started": "2021-09-13T01:37:26.946504Z"
    },
    "papermill": {
     "duration": 0.038866,
     "end_time": "2021-09-13T01:52:38.713421",
     "exception": false,
     "start_time": "2021-09-13T01:52:38.674555",
     "status": "completed"
    },
    "tags": []
   },
   "outputs": [
    {
     "data": {
      "text/plain": [
       "array([ 1,  2,  3,  5,  7, 12])"
      ]
     },
     "execution_count": 6,
     "metadata": {},
     "output_type": "execute_result"
    }
   ],
   "source": [
    "a = np.array([1, 2, 3, 5, 7, 12])\n",
    "a"
   ]
  },
  {
   "cell_type": "code",
   "execution_count": 7,
   "id": "64d87a2b",
   "metadata": {
    "execution": {
     "iopub.execute_input": "2021-09-13T01:52:38.774473Z",
     "iopub.status.busy": "2021-09-13T01:52:38.773782Z",
     "iopub.status.idle": "2021-09-13T01:52:38.776962Z",
     "shell.execute_reply": "2021-09-13T01:52:38.777469Z",
     "shell.execute_reply.started": "2021-09-13T01:37:36.426430Z"
    },
    "papermill": {
     "duration": 0.035123,
     "end_time": "2021-09-13T01:52:38.777633",
     "exception": false,
     "start_time": "2021-09-13T01:52:38.742510",
     "status": "completed"
    },
    "tags": []
   },
   "outputs": [],
   "source": [
    "a[2] = 10"
   ]
  },
  {
   "cell_type": "code",
   "execution_count": 8,
   "id": "36d6a06b",
   "metadata": {
    "execution": {
     "iopub.execute_input": "2021-09-13T01:52:38.839243Z",
     "iopub.status.busy": "2021-09-13T01:52:38.838546Z",
     "iopub.status.idle": "2021-09-13T01:52:38.841533Z",
     "shell.execute_reply": "2021-09-13T01:52:38.842052Z",
     "shell.execute_reply.started": "2021-09-13T01:37:39.111935Z"
    },
    "papermill": {
     "duration": 0.0362,
     "end_time": "2021-09-13T01:52:38.842227",
     "exception": false,
     "start_time": "2021-09-13T01:52:38.806027",
     "status": "completed"
    },
    "tags": []
   },
   "outputs": [
    {
     "data": {
      "text/plain": [
       "array([ 1,  2, 10,  5,  7, 12])"
      ]
     },
     "execution_count": 8,
     "metadata": {},
     "output_type": "execute_result"
    }
   ],
   "source": [
    "a"
   ]
  },
  {
   "cell_type": "code",
   "execution_count": 9,
   "id": "c5d0d810",
   "metadata": {
    "execution": {
     "iopub.execute_input": "2021-09-13T01:52:38.903395Z",
     "iopub.status.busy": "2021-09-13T01:52:38.902748Z",
     "iopub.status.idle": "2021-09-13T01:52:38.908239Z",
     "shell.execute_reply": "2021-09-13T01:52:38.908811Z",
     "shell.execute_reply.started": "2021-09-13T01:37:56.719329Z"
    },
    "papermill": {
     "duration": 0.037843,
     "end_time": "2021-09-13T01:52:38.908988",
     "exception": false,
     "start_time": "2021-09-13T01:52:38.871145",
     "status": "completed"
    },
    "tags": []
   },
   "outputs": [
    {
     "data": {
      "text/plain": [
       "array([3, 4, 5, 6, 7, 8, 9])"
      ]
     },
     "execution_count": 9,
     "metadata": {},
     "output_type": "execute_result"
    }
   ],
   "source": [
    "np.arange(3, 10)"
   ]
  },
  {
   "cell_type": "code",
   "execution_count": 10,
   "id": "b1cd1413",
   "metadata": {
    "execution": {
     "iopub.execute_input": "2021-09-13T01:52:38.975224Z",
     "iopub.status.busy": "2021-09-13T01:52:38.972400Z",
     "iopub.status.idle": "2021-09-13T01:52:38.978081Z",
     "shell.execute_reply": "2021-09-13T01:52:38.978599Z",
     "shell.execute_reply.started": "2021-09-13T01:38:08.655383Z"
    },
    "papermill": {
     "duration": 0.039631,
     "end_time": "2021-09-13T01:52:38.978765",
     "exception": false,
     "start_time": "2021-09-13T01:52:38.939134",
     "status": "completed"
    },
    "tags": []
   },
   "outputs": [
    {
     "data": {
      "text/plain": [
       "array([  0.,  10.,  20.,  30.,  40.,  50.,  60.,  70.,  80.,  90., 100.])"
      ]
     },
     "execution_count": 10,
     "metadata": {},
     "output_type": "execute_result"
    }
   ],
   "source": [
    "np.linspace(0, 100, 11)"
   ]
  },
  {
   "cell_type": "markdown",
   "id": "c16e2141",
   "metadata": {
    "papermill": {
     "duration": 0.029458,
     "end_time": "2021-09-13T01:52:39.037781",
     "exception": false,
     "start_time": "2021-09-13T01:52:39.008323",
     "status": "completed"
    },
    "tags": []
   },
   "source": [
    "## Multi-dementional arrays\n"
   ]
  },
  {
   "cell_type": "code",
   "execution_count": 11,
   "id": "71059340",
   "metadata": {
    "execution": {
     "iopub.execute_input": "2021-09-13T01:52:39.102829Z",
     "iopub.status.busy": "2021-09-13T01:52:39.102205Z",
     "iopub.status.idle": "2021-09-13T01:52:39.105689Z",
     "shell.execute_reply": "2021-09-13T01:52:39.106157Z"
    },
    "papermill": {
     "duration": 0.038845,
     "end_time": "2021-09-13T01:52:39.106341",
     "exception": false,
     "start_time": "2021-09-13T01:52:39.067496",
     "status": "completed"
    },
    "tags": []
   },
   "outputs": [
    {
     "data": {
      "text/plain": [
       "array([[0., 0.],\n",
       "       [0., 0.],\n",
       "       [0., 0.],\n",
       "       [0., 0.],\n",
       "       [0., 0.]])"
      ]
     },
     "execution_count": 11,
     "metadata": {},
     "output_type": "execute_result"
    }
   ],
   "source": [
    "np.zeros((5, 2))"
   ]
  },
  {
   "cell_type": "code",
   "execution_count": 12,
   "id": "42490acc",
   "metadata": {
    "execution": {
     "iopub.execute_input": "2021-09-13T01:52:39.169796Z",
     "iopub.status.busy": "2021-09-13T01:52:39.169091Z",
     "iopub.status.idle": "2021-09-13T01:52:39.172617Z",
     "shell.execute_reply": "2021-09-13T01:52:39.173104Z"
    },
    "papermill": {
     "duration": 0.037224,
     "end_time": "2021-09-13T01:52:39.173284",
     "exception": false,
     "start_time": "2021-09-13T01:52:39.136060",
     "status": "completed"
    },
    "tags": []
   },
   "outputs": [],
   "source": [
    "n = np.array([\n",
    "    [1, 2, 3],\n",
    "    [4, 5, 6],\n",
    "    [7, 8, 9]\n",
    "])"
   ]
  },
  {
   "cell_type": "code",
   "execution_count": 13,
   "id": "9911f60d",
   "metadata": {
    "execution": {
     "iopub.execute_input": "2021-09-13T01:52:39.237411Z",
     "iopub.status.busy": "2021-09-13T01:52:39.236709Z",
     "iopub.status.idle": "2021-09-13T01:52:39.239727Z",
     "shell.execute_reply": "2021-09-13T01:52:39.240253Z"
    },
    "papermill": {
     "duration": 0.036968,
     "end_time": "2021-09-13T01:52:39.240416",
     "exception": false,
     "start_time": "2021-09-13T01:52:39.203448",
     "status": "completed"
    },
    "tags": []
   },
   "outputs": [],
   "source": [
    "n[0, 1] = 20"
   ]
  },
  {
   "cell_type": "code",
   "execution_count": 14,
   "id": "3eb575b5",
   "metadata": {
    "execution": {
     "iopub.execute_input": "2021-09-13T01:52:39.305251Z",
     "iopub.status.busy": "2021-09-13T01:52:39.304611Z",
     "iopub.status.idle": "2021-09-13T01:52:39.309666Z",
     "shell.execute_reply": "2021-09-13T01:52:39.310101Z"
    },
    "papermill": {
     "duration": 0.03936,
     "end_time": "2021-09-13T01:52:39.310313",
     "exception": false,
     "start_time": "2021-09-13T01:52:39.270953",
     "status": "completed"
    },
    "tags": []
   },
   "outputs": [
    {
     "data": {
      "text/plain": [
       "array([[ 1, 20,  3],\n",
       "       [ 4,  5,  6],\n",
       "       [ 7,  8,  9]])"
      ]
     },
     "execution_count": 14,
     "metadata": {},
     "output_type": "execute_result"
    }
   ],
   "source": [
    "n"
   ]
  },
  {
   "cell_type": "code",
   "execution_count": 15,
   "id": "d41d8d2f",
   "metadata": {
    "execution": {
     "iopub.execute_input": "2021-09-13T01:52:39.376058Z",
     "iopub.status.busy": "2021-09-13T01:52:39.375440Z",
     "iopub.status.idle": "2021-09-13T01:52:39.377803Z",
     "shell.execute_reply": "2021-09-13T01:52:39.378289Z"
    },
    "papermill": {
     "duration": 0.03757,
     "end_time": "2021-09-13T01:52:39.378459",
     "exception": false,
     "start_time": "2021-09-13T01:52:39.340889",
     "status": "completed"
    },
    "tags": []
   },
   "outputs": [],
   "source": [
    "n[2] = [1, 1, 1]"
   ]
  },
  {
   "cell_type": "code",
   "execution_count": 16,
   "id": "c3cfb6af",
   "metadata": {
    "execution": {
     "iopub.execute_input": "2021-09-13T01:52:39.461305Z",
     "iopub.status.busy": "2021-09-13T01:52:39.460406Z",
     "iopub.status.idle": "2021-09-13T01:52:39.467246Z",
     "shell.execute_reply": "2021-09-13T01:52:39.466541Z"
    },
    "papermill": {
     "duration": 0.051188,
     "end_time": "2021-09-13T01:52:39.467465",
     "exception": false,
     "start_time": "2021-09-13T01:52:39.416277",
     "status": "completed"
    },
    "tags": []
   },
   "outputs": [
    {
     "data": {
      "text/plain": [
       "array([[ 1, 20,  3],\n",
       "       [ 4,  5,  6],\n",
       "       [ 1,  1,  1]])"
      ]
     },
     "execution_count": 16,
     "metadata": {},
     "output_type": "execute_result"
    }
   ],
   "source": [
    "n"
   ]
  },
  {
   "cell_type": "code",
   "execution_count": 17,
   "id": "747e4d1e",
   "metadata": {
    "execution": {
     "iopub.execute_input": "2021-09-13T01:52:39.541749Z",
     "iopub.status.busy": "2021-09-13T01:52:39.540778Z",
     "iopub.status.idle": "2021-09-13T01:52:39.544220Z",
     "shell.execute_reply": "2021-09-13T01:52:39.544769Z"
    },
    "papermill": {
     "duration": 0.039751,
     "end_time": "2021-09-13T01:52:39.544937",
     "exception": false,
     "start_time": "2021-09-13T01:52:39.505186",
     "status": "completed"
    },
    "tags": []
   },
   "outputs": [],
   "source": [
    "n[:, 2] = [0, 1, 2]"
   ]
  },
  {
   "cell_type": "code",
   "execution_count": 18,
   "id": "cf5720e4",
   "metadata": {
    "execution": {
     "iopub.execute_input": "2021-09-13T01:52:39.614035Z",
     "iopub.status.busy": "2021-09-13T01:52:39.613256Z",
     "iopub.status.idle": "2021-09-13T01:52:39.616765Z",
     "shell.execute_reply": "2021-09-13T01:52:39.616231Z"
    },
    "papermill": {
     "duration": 0.040267,
     "end_time": "2021-09-13T01:52:39.616894",
     "exception": false,
     "start_time": "2021-09-13T01:52:39.576627",
     "status": "completed"
    },
    "tags": []
   },
   "outputs": [
    {
     "data": {
      "text/plain": [
       "array([[ 1, 20,  0],\n",
       "       [ 4,  5,  1],\n",
       "       [ 1,  1,  2]])"
      ]
     },
     "execution_count": 18,
     "metadata": {},
     "output_type": "execute_result"
    }
   ],
   "source": [
    "n"
   ]
  },
  {
   "cell_type": "markdown",
   "id": "6e67afb9",
   "metadata": {
    "papermill": {
     "duration": 0.031514,
     "end_time": "2021-09-13T01:52:39.680098",
     "exception": false,
     "start_time": "2021-09-13T01:52:39.648584",
     "status": "completed"
    },
    "tags": []
   },
   "source": [
    "## Randomly generated arrays\n"
   ]
  },
  {
   "cell_type": "code",
   "execution_count": 19,
   "id": "9af7a0a0",
   "metadata": {
    "execution": {
     "iopub.execute_input": "2021-09-13T01:52:39.750259Z",
     "iopub.status.busy": "2021-09-13T01:52:39.749398Z",
     "iopub.status.idle": "2021-09-13T01:52:39.752597Z",
     "shell.execute_reply": "2021-09-13T01:52:39.753078Z",
     "shell.execute_reply.started": "2021-09-13T01:39:14.954601Z"
    },
    "papermill": {
     "duration": 0.041244,
     "end_time": "2021-09-13T01:52:39.753254",
     "exception": false,
     "start_time": "2021-09-13T01:52:39.712010",
     "status": "completed"
    },
    "tags": []
   },
   "outputs": [
    {
     "data": {
      "text/plain": [
       "array([[43.59949021,  2.59262318],\n",
       "       [54.96624779, 43.53223926],\n",
       "       [42.03678021, 33.0334821 ],\n",
       "       [20.4648634 , 61.92709664],\n",
       "       [29.96546737, 26.68272751]])"
      ]
     },
     "execution_count": 19,
     "metadata": {},
     "output_type": "execute_result"
    }
   ],
   "source": [
    "np.random.seed(2)\n",
    "100 * np.random.rand(5, 2)"
   ]
  },
  {
   "cell_type": "code",
   "execution_count": 20,
   "id": "d9e327c9",
   "metadata": {
    "execution": {
     "iopub.execute_input": "2021-09-13T01:52:39.822115Z",
     "iopub.status.busy": "2021-09-13T01:52:39.821155Z",
     "iopub.status.idle": "2021-09-13T01:52:39.828216Z",
     "shell.execute_reply": "2021-09-13T01:52:39.827708Z",
     "shell.execute_reply.started": "2021-09-13T01:39:54.258784Z"
    },
    "papermill": {
     "duration": 0.042715,
     "end_time": "2021-09-13T01:52:39.828352",
     "exception": false,
     "start_time": "2021-09-13T01:52:39.785637",
     "status": "completed"
    },
    "tags": []
   },
   "outputs": [
    {
     "data": {
      "text/plain": [
       "array([[-0.41675785, -0.05626683],\n",
       "       [-2.1361961 ,  1.64027081],\n",
       "       [-1.79343559, -0.84174737],\n",
       "       [ 0.50288142, -1.24528809],\n",
       "       [-1.05795222, -0.90900761]])"
      ]
     },
     "execution_count": 20,
     "metadata": {},
     "output_type": "execute_result"
    }
   ],
   "source": [
    "np.random.seed(2)\n",
    "np.random.randn(5, 2)"
   ]
  },
  {
   "cell_type": "code",
   "execution_count": 21,
   "id": "08126c98",
   "metadata": {
    "execution": {
     "iopub.execute_input": "2021-09-13T01:52:39.900614Z",
     "iopub.status.busy": "2021-09-13T01:52:39.899826Z",
     "iopub.status.idle": "2021-09-13T01:52:39.903489Z",
     "shell.execute_reply": "2021-09-13T01:52:39.902883Z"
    },
    "papermill": {
     "duration": 0.042784,
     "end_time": "2021-09-13T01:52:39.903628",
     "exception": false,
     "start_time": "2021-09-13T01:52:39.860844",
     "status": "completed"
    },
    "tags": []
   },
   "outputs": [
    {
     "data": {
      "text/plain": [
       "array([[40, 15],\n",
       "       [72, 22],\n",
       "       [43, 82],\n",
       "       [75,  7],\n",
       "       [34, 49]])"
      ]
     },
     "execution_count": 21,
     "metadata": {},
     "output_type": "execute_result"
    }
   ],
   "source": [
    "np.random.seed(2)\n",
    "np.random.randint(low=0, high=100, size=(5, 2))"
   ]
  },
  {
   "cell_type": "markdown",
   "id": "8706b23c",
   "metadata": {
    "papermill": {
     "duration": 0.033728,
     "end_time": "2021-09-13T01:52:39.970490",
     "exception": false,
     "start_time": "2021-09-13T01:52:39.936762",
     "status": "completed"
    },
    "tags": []
   },
   "source": [
    "## Element-wise operations\n"
   ]
  },
  {
   "cell_type": "code",
   "execution_count": 22,
   "id": "4d555e5c",
   "metadata": {
    "execution": {
     "iopub.execute_input": "2021-09-13T01:52:40.042569Z",
     "iopub.status.busy": "2021-09-13T01:52:40.041875Z",
     "iopub.status.idle": "2021-09-13T01:52:40.044263Z",
     "shell.execute_reply": "2021-09-13T01:52:40.044831Z"
    },
    "papermill": {
     "duration": 0.041527,
     "end_time": "2021-09-13T01:52:40.044999",
     "exception": false,
     "start_time": "2021-09-13T01:52:40.003472",
     "status": "completed"
    },
    "tags": []
   },
   "outputs": [
    {
     "data": {
      "text/plain": [
       "array([0, 1, 2, 3, 4])"
      ]
     },
     "execution_count": 22,
     "metadata": {},
     "output_type": "execute_result"
    }
   ],
   "source": [
    "a = np.arange(5)\n",
    "a"
   ]
  },
  {
   "cell_type": "code",
   "execution_count": 23,
   "id": "da65e1eb",
   "metadata": {
    "execution": {
     "iopub.execute_input": "2021-09-13T01:52:40.115041Z",
     "iopub.status.busy": "2021-09-13T01:52:40.114439Z",
     "iopub.status.idle": "2021-09-13T01:52:40.117722Z",
     "shell.execute_reply": "2021-09-13T01:52:40.118295Z"
    },
    "papermill": {
     "duration": 0.040038,
     "end_time": "2021-09-13T01:52:40.118454",
     "exception": false,
     "start_time": "2021-09-13T01:52:40.078416",
     "status": "completed"
    },
    "tags": []
   },
   "outputs": [],
   "source": [
    "b = (10 + (a * 2)) ** 2 / 100"
   ]
  },
  {
   "cell_type": "code",
   "execution_count": 24,
   "id": "07bf39a1",
   "metadata": {
    "execution": {
     "iopub.execute_input": "2021-09-13T01:52:40.188880Z",
     "iopub.status.busy": "2021-09-13T01:52:40.188264Z",
     "iopub.status.idle": "2021-09-13T01:52:40.192551Z",
     "shell.execute_reply": "2021-09-13T01:52:40.193117Z"
    },
    "papermill": {
     "duration": 0.041147,
     "end_time": "2021-09-13T01:52:40.193290",
     "exception": false,
     "start_time": "2021-09-13T01:52:40.152143",
     "status": "completed"
    },
    "tags": []
   },
   "outputs": [
    {
     "data": {
      "text/plain": [
       "array([1.  , 1.44, 1.96, 2.56, 3.24])"
      ]
     },
     "execution_count": 24,
     "metadata": {},
     "output_type": "execute_result"
    }
   ],
   "source": [
    "b"
   ]
  },
  {
   "cell_type": "code",
   "execution_count": 25,
   "id": "4f1e7b4d",
   "metadata": {
    "execution": {
     "iopub.execute_input": "2021-09-13T01:52:40.264315Z",
     "iopub.status.busy": "2021-09-13T01:52:40.263681Z",
     "iopub.status.idle": "2021-09-13T01:52:40.268714Z",
     "shell.execute_reply": "2021-09-13T01:52:40.269292Z"
    },
    "papermill": {
     "duration": 0.042219,
     "end_time": "2021-09-13T01:52:40.269453",
     "exception": false,
     "start_time": "2021-09-13T01:52:40.227234",
     "status": "completed"
    },
    "tags": []
   },
   "outputs": [
    {
     "data": {
      "text/plain": [
       "array([10.        , 10.69444444, 11.02040816, 11.171875  , 11.2345679 ])"
      ]
     },
     "execution_count": 25,
     "metadata": {},
     "output_type": "execute_result"
    }
   ],
   "source": [
    "a / b + 10"
   ]
  },
  {
   "cell_type": "markdown",
   "id": "0d7efb33",
   "metadata": {
    "papermill": {
     "duration": 0.03434,
     "end_time": "2021-09-13T01:52:40.338198",
     "exception": false,
     "start_time": "2021-09-13T01:52:40.303858",
     "status": "completed"
    },
    "tags": []
   },
   "source": [
    "## Comparison operations"
   ]
  },
  {
   "cell_type": "code",
   "execution_count": 26,
   "id": "0292dfec",
   "metadata": {
    "execution": {
     "iopub.execute_input": "2021-09-13T01:52:40.410182Z",
     "iopub.status.busy": "2021-09-13T01:52:40.409582Z",
     "iopub.status.idle": "2021-09-13T01:52:40.415058Z",
     "shell.execute_reply": "2021-09-13T01:52:40.414574Z"
    },
    "papermill": {
     "duration": 0.042716,
     "end_time": "2021-09-13T01:52:40.415203",
     "exception": false,
     "start_time": "2021-09-13T01:52:40.372487",
     "status": "completed"
    },
    "tags": []
   },
   "outputs": [
    {
     "data": {
      "text/plain": [
       "array([0, 1, 2, 3, 4])"
      ]
     },
     "execution_count": 26,
     "metadata": {},
     "output_type": "execute_result"
    }
   ],
   "source": [
    "a"
   ]
  },
  {
   "cell_type": "code",
   "execution_count": 27,
   "id": "15fafe7d",
   "metadata": {
    "execution": {
     "iopub.execute_input": "2021-09-13T01:52:40.488938Z",
     "iopub.status.busy": "2021-09-13T01:52:40.488336Z",
     "iopub.status.idle": "2021-09-13T01:52:40.492791Z",
     "shell.execute_reply": "2021-09-13T01:52:40.493388Z"
    },
    "papermill": {
     "duration": 0.043111,
     "end_time": "2021-09-13T01:52:40.493561",
     "exception": false,
     "start_time": "2021-09-13T01:52:40.450450",
     "status": "completed"
    },
    "tags": []
   },
   "outputs": [
    {
     "data": {
      "text/plain": [
       "array([False, False,  True,  True,  True])"
      ]
     },
     "execution_count": 27,
     "metadata": {},
     "output_type": "execute_result"
    }
   ],
   "source": [
    "a >= 2"
   ]
  },
  {
   "cell_type": "code",
   "execution_count": 28,
   "id": "f5ce0907",
   "metadata": {
    "execution": {
     "iopub.execute_input": "2021-09-13T01:52:40.567697Z",
     "iopub.status.busy": "2021-09-13T01:52:40.567026Z",
     "iopub.status.idle": "2021-09-13T01:52:40.571439Z",
     "shell.execute_reply": "2021-09-13T01:52:40.571906Z"
    },
    "papermill": {
     "duration": 0.042788,
     "end_time": "2021-09-13T01:52:40.572063",
     "exception": false,
     "start_time": "2021-09-13T01:52:40.529275",
     "status": "completed"
    },
    "tags": []
   },
   "outputs": [
    {
     "data": {
      "text/plain": [
       "array([1.  , 1.44, 1.96, 2.56, 3.24])"
      ]
     },
     "execution_count": 28,
     "metadata": {},
     "output_type": "execute_result"
    }
   ],
   "source": [
    "b"
   ]
  },
  {
   "cell_type": "code",
   "execution_count": 29,
   "id": "81c29881",
   "metadata": {
    "execution": {
     "iopub.execute_input": "2021-09-13T01:52:40.647700Z",
     "iopub.status.busy": "2021-09-13T01:52:40.646977Z",
     "iopub.status.idle": "2021-09-13T01:52:40.652297Z",
     "shell.execute_reply": "2021-09-13T01:52:40.652829Z"
    },
    "papermill": {
     "duration": 0.045114,
     "end_time": "2021-09-13T01:52:40.652994",
     "exception": false,
     "start_time": "2021-09-13T01:52:40.607880",
     "status": "completed"
    },
    "tags": []
   },
   "outputs": [
    {
     "data": {
      "text/plain": [
       "array([False, False,  True,  True,  True])"
      ]
     },
     "execution_count": 29,
     "metadata": {},
     "output_type": "execute_result"
    }
   ],
   "source": [
    "a > b"
   ]
  },
  {
   "cell_type": "code",
   "execution_count": 30,
   "id": "e032442f",
   "metadata": {
    "execution": {
     "iopub.execute_input": "2021-09-13T01:52:40.731763Z",
     "iopub.status.busy": "2021-09-13T01:52:40.728494Z",
     "iopub.status.idle": "2021-09-13T01:52:40.735460Z",
     "shell.execute_reply": "2021-09-13T01:52:40.734952Z"
    },
    "papermill": {
     "duration": 0.046448,
     "end_time": "2021-09-13T01:52:40.735602",
     "exception": false,
     "start_time": "2021-09-13T01:52:40.689154",
     "status": "completed"
    },
    "tags": []
   },
   "outputs": [
    {
     "data": {
      "text/plain": [
       "array([2, 3, 4])"
      ]
     },
     "execution_count": 30,
     "metadata": {},
     "output_type": "execute_result"
    }
   ],
   "source": [
    "a[a > b]"
   ]
  },
  {
   "cell_type": "markdown",
   "id": "f3729748",
   "metadata": {
    "papermill": {
     "duration": 0.037512,
     "end_time": "2021-09-13T01:52:40.810040",
     "exception": false,
     "start_time": "2021-09-13T01:52:40.772528",
     "status": "completed"
    },
    "tags": []
   },
   "source": [
    "## Summarizing operations"
   ]
  },
  {
   "cell_type": "code",
   "execution_count": 31,
   "id": "2023fc54",
   "metadata": {
    "execution": {
     "iopub.execute_input": "2021-09-13T01:52:40.889331Z",
     "iopub.status.busy": "2021-09-13T01:52:40.888668Z",
     "iopub.status.idle": "2021-09-13T01:52:40.891437Z",
     "shell.execute_reply": "2021-09-13T01:52:40.891916Z"
    },
    "papermill": {
     "duration": 0.044896,
     "end_time": "2021-09-13T01:52:40.892096",
     "exception": false,
     "start_time": "2021-09-13T01:52:40.847200",
     "status": "completed"
    },
    "tags": []
   },
   "outputs": [
    {
     "data": {
      "text/plain": [
       "array([0, 1, 2, 3, 4])"
      ]
     },
     "execution_count": 31,
     "metadata": {},
     "output_type": "execute_result"
    }
   ],
   "source": [
    "a"
   ]
  },
  {
   "cell_type": "code",
   "execution_count": 32,
   "id": "b9685436",
   "metadata": {
    "execution": {
     "iopub.execute_input": "2021-09-13T01:52:40.971230Z",
     "iopub.status.busy": "2021-09-13T01:52:40.970279Z",
     "iopub.status.idle": "2021-09-13T01:52:40.976104Z",
     "shell.execute_reply": "2021-09-13T01:52:40.976574Z"
    },
    "papermill": {
     "duration": 0.047434,
     "end_time": "2021-09-13T01:52:40.976751",
     "exception": false,
     "start_time": "2021-09-13T01:52:40.929317",
     "status": "completed"
    },
    "tags": []
   },
   "outputs": [
    {
     "data": {
      "text/plain": [
       "1.4142135623730951"
      ]
     },
     "execution_count": 32,
     "metadata": {},
     "output_type": "execute_result"
    }
   ],
   "source": [
    "a.std()"
   ]
  },
  {
   "cell_type": "code",
   "execution_count": 33,
   "id": "7dffdbea",
   "metadata": {
    "execution": {
     "iopub.execute_input": "2021-09-13T01:52:41.056345Z",
     "iopub.status.busy": "2021-09-13T01:52:41.055395Z",
     "iopub.status.idle": "2021-09-13T01:52:41.060736Z",
     "shell.execute_reply": "2021-09-13T01:52:41.061238Z"
    },
    "papermill": {
     "duration": 0.046196,
     "end_time": "2021-09-13T01:52:41.061401",
     "exception": false,
     "start_time": "2021-09-13T01:52:41.015205",
     "status": "completed"
    },
    "tags": []
   },
   "outputs": [
    {
     "data": {
      "text/plain": [
       "0"
      ]
     },
     "execution_count": 33,
     "metadata": {},
     "output_type": "execute_result"
    }
   ],
   "source": [
    "n.min()"
   ]
  },
  {
   "cell_type": "markdown",
   "id": "70b1b126",
   "metadata": {
    "papermill": {
     "duration": 0.038831,
     "end_time": "2021-09-13T01:52:41.138159",
     "exception": false,
     "start_time": "2021-09-13T01:52:41.099328",
     "status": "completed"
    },
    "tags": []
   },
   "source": [
    "### Next\n",
    "\n",
    "Linear algebra refresher"
   ]
  }
 ],
 "metadata": {
  "kernelspec": {
   "display_name": "Python 3",
   "language": "python",
   "name": "python3"
  },
  "language_info": {
   "codemirror_mode": {
    "name": "ipython",
    "version": 3
   },
   "file_extension": ".py",
   "mimetype": "text/x-python",
   "name": "python",
   "nbconvert_exporter": "python",
   "pygments_lexer": "ipython3",
   "version": "3.7.10"
  },
  "papermill": {
   "default_parameters": {},
   "duration": 11.562166,
   "end_time": "2021-09-13T01:52:41.685640",
   "environment_variables": {},
   "exception": null,
   "input_path": "__notebook__.ipynb",
   "output_path": "__notebook__.ipynb",
   "parameters": {},
   "start_time": "2021-09-13T01:52:30.123474",
   "version": "2.3.3"
  }
 },
 "nbformat": 4,
 "nbformat_minor": 5
}

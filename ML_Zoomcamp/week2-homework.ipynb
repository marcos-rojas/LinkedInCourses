{
 "cells": [
  {
   "cell_type": "code",
   "execution_count": 1,
   "id": "a5c54372",
   "metadata": {
    "_cell_guid": "b1076dfc-b9ad-4769-8c92-a6c4dae69d19",
    "_uuid": "8f2839f25d086af736a60e9eeb907d3b93b6e0e5",
    "execution": {
     "iopub.execute_input": "2021-09-18T15:54:54.320271Z",
     "iopub.status.busy": "2021-09-18T15:54:54.318986Z",
     "iopub.status.idle": "2021-09-18T15:54:54.337274Z",
     "shell.execute_reply": "2021-09-18T15:54:54.337827Z",
     "shell.execute_reply.started": "2021-09-18T15:17:12.170626Z"
    },
    "papermill": {
     "duration": 0.046008,
     "end_time": "2021-09-18T15:54:54.338123",
     "exception": false,
     "start_time": "2021-09-18T15:54:54.292115",
     "status": "completed"
    },
    "tags": []
   },
   "outputs": [
    {
     "name": "stdout",
     "output_type": "stream",
     "text": [
      "/kaggle/input/new-york-city-airbnb-open-data/AB_NYC_2019.csv\n",
      "/kaggle/input/new-york-city-airbnb-open-data/New_York_City_.png\n"
     ]
    }
   ],
   "source": [
    "# This Python 3 environment comes with many helpful analytics libraries installed\n",
    "# It is defined by the kaggle/python Docker image: https://github.com/kaggle/docker-python\n",
    "# For example, here's several helpful packages to load\n",
    "\n",
    "import numpy as np # linear algebra\n",
    "import pandas as pd # data processing, CSV file I/O (e.g. pd.read_csv)\n",
    "\n",
    "# Input data files are available in the read-only \"../input/\" directory\n",
    "# For example, running this (by clicking run or pressing Shift+Enter) will list all files under the input directory\n",
    "\n",
    "import os\n",
    "for dirname, _, filenames in os.walk('/kaggle/input'):\n",
    "    for filename in filenames:\n",
    "        print(os.path.join(dirname, filename))\n",
    "\n",
    "# You can write up to 20GB to the current directory (/kaggle/working/) that gets preserved as output when you create a version using \"Save & Run All\" \n",
    "# You can also write temporary files to /kaggle/temp/, but they won't be saved outside of the current session"
   ]
  },
  {
   "cell_type": "code",
   "execution_count": 2,
   "id": "dcac2def",
   "metadata": {
    "execution": {
     "iopub.execute_input": "2021-09-18T15:54:54.387609Z",
     "iopub.status.busy": "2021-09-18T15:54:54.386951Z",
     "iopub.status.idle": "2021-09-18T15:54:54.698243Z",
     "shell.execute_reply": "2021-09-18T15:54:54.698840Z",
     "shell.execute_reply.started": "2021-09-18T15:17:12.192583Z"
    },
    "papermill": {
     "duration": 0.337273,
     "end_time": "2021-09-18T15:54:54.699034",
     "exception": false,
     "start_time": "2021-09-18T15:54:54.361761",
     "status": "completed"
    },
    "tags": []
   },
   "outputs": [
    {
     "data": {
      "text/html": [
       "<div>\n",
       "<style scoped>\n",
       "    .dataframe tbody tr th:only-of-type {\n",
       "        vertical-align: middle;\n",
       "    }\n",
       "\n",
       "    .dataframe tbody tr th {\n",
       "        vertical-align: top;\n",
       "    }\n",
       "\n",
       "    .dataframe thead th {\n",
       "        text-align: right;\n",
       "    }\n",
       "</style>\n",
       "<table border=\"1\" class=\"dataframe\">\n",
       "  <thead>\n",
       "    <tr style=\"text-align: right;\">\n",
       "      <th></th>\n",
       "      <th>id</th>\n",
       "      <th>name</th>\n",
       "      <th>host_id</th>\n",
       "      <th>host_name</th>\n",
       "      <th>neighbourhood_group</th>\n",
       "      <th>neighbourhood</th>\n",
       "      <th>latitude</th>\n",
       "      <th>longitude</th>\n",
       "      <th>room_type</th>\n",
       "      <th>price</th>\n",
       "      <th>minimum_nights</th>\n",
       "      <th>number_of_reviews</th>\n",
       "      <th>last_review</th>\n",
       "      <th>reviews_per_month</th>\n",
       "      <th>calculated_host_listings_count</th>\n",
       "      <th>availability_365</th>\n",
       "    </tr>\n",
       "  </thead>\n",
       "  <tbody>\n",
       "    <tr>\n",
       "      <th>0</th>\n",
       "      <td>2539</td>\n",
       "      <td>Clean &amp; quiet apt home by the park</td>\n",
       "      <td>2787</td>\n",
       "      <td>John</td>\n",
       "      <td>Brooklyn</td>\n",
       "      <td>Kensington</td>\n",
       "      <td>40.64749</td>\n",
       "      <td>-73.97237</td>\n",
       "      <td>Private room</td>\n",
       "      <td>149</td>\n",
       "      <td>1</td>\n",
       "      <td>9</td>\n",
       "      <td>2018-10-19</td>\n",
       "      <td>0.21</td>\n",
       "      <td>6</td>\n",
       "      <td>365</td>\n",
       "    </tr>\n",
       "    <tr>\n",
       "      <th>1</th>\n",
       "      <td>2595</td>\n",
       "      <td>Skylit Midtown Castle</td>\n",
       "      <td>2845</td>\n",
       "      <td>Jennifer</td>\n",
       "      <td>Manhattan</td>\n",
       "      <td>Midtown</td>\n",
       "      <td>40.75362</td>\n",
       "      <td>-73.98377</td>\n",
       "      <td>Entire home/apt</td>\n",
       "      <td>225</td>\n",
       "      <td>1</td>\n",
       "      <td>45</td>\n",
       "      <td>2019-05-21</td>\n",
       "      <td>0.38</td>\n",
       "      <td>2</td>\n",
       "      <td>355</td>\n",
       "    </tr>\n",
       "    <tr>\n",
       "      <th>2</th>\n",
       "      <td>3647</td>\n",
       "      <td>THE VILLAGE OF HARLEM....NEW YORK !</td>\n",
       "      <td>4632</td>\n",
       "      <td>Elisabeth</td>\n",
       "      <td>Manhattan</td>\n",
       "      <td>Harlem</td>\n",
       "      <td>40.80902</td>\n",
       "      <td>-73.94190</td>\n",
       "      <td>Private room</td>\n",
       "      <td>150</td>\n",
       "      <td>3</td>\n",
       "      <td>0</td>\n",
       "      <td>NaN</td>\n",
       "      <td>NaN</td>\n",
       "      <td>1</td>\n",
       "      <td>365</td>\n",
       "    </tr>\n",
       "    <tr>\n",
       "      <th>3</th>\n",
       "      <td>3831</td>\n",
       "      <td>Cozy Entire Floor of Brownstone</td>\n",
       "      <td>4869</td>\n",
       "      <td>LisaRoxanne</td>\n",
       "      <td>Brooklyn</td>\n",
       "      <td>Clinton Hill</td>\n",
       "      <td>40.68514</td>\n",
       "      <td>-73.95976</td>\n",
       "      <td>Entire home/apt</td>\n",
       "      <td>89</td>\n",
       "      <td>1</td>\n",
       "      <td>270</td>\n",
       "      <td>2019-07-05</td>\n",
       "      <td>4.64</td>\n",
       "      <td>1</td>\n",
       "      <td>194</td>\n",
       "    </tr>\n",
       "    <tr>\n",
       "      <th>4</th>\n",
       "      <td>5022</td>\n",
       "      <td>Entire Apt: Spacious Studio/Loft by central park</td>\n",
       "      <td>7192</td>\n",
       "      <td>Laura</td>\n",
       "      <td>Manhattan</td>\n",
       "      <td>East Harlem</td>\n",
       "      <td>40.79851</td>\n",
       "      <td>-73.94399</td>\n",
       "      <td>Entire home/apt</td>\n",
       "      <td>80</td>\n",
       "      <td>10</td>\n",
       "      <td>9</td>\n",
       "      <td>2018-11-19</td>\n",
       "      <td>0.10</td>\n",
       "      <td>1</td>\n",
       "      <td>0</td>\n",
       "    </tr>\n",
       "  </tbody>\n",
       "</table>\n",
       "</div>"
      ],
      "text/plain": [
       "     id                                              name  host_id  \\\n",
       "0  2539                Clean & quiet apt home by the park     2787   \n",
       "1  2595                             Skylit Midtown Castle     2845   \n",
       "2  3647               THE VILLAGE OF HARLEM....NEW YORK !     4632   \n",
       "3  3831                   Cozy Entire Floor of Brownstone     4869   \n",
       "4  5022  Entire Apt: Spacious Studio/Loft by central park     7192   \n",
       "\n",
       "     host_name neighbourhood_group neighbourhood  latitude  longitude  \\\n",
       "0         John            Brooklyn    Kensington  40.64749  -73.97237   \n",
       "1     Jennifer           Manhattan       Midtown  40.75362  -73.98377   \n",
       "2    Elisabeth           Manhattan        Harlem  40.80902  -73.94190   \n",
       "3  LisaRoxanne            Brooklyn  Clinton Hill  40.68514  -73.95976   \n",
       "4        Laura           Manhattan   East Harlem  40.79851  -73.94399   \n",
       "\n",
       "         room_type  price  minimum_nights  number_of_reviews last_review  \\\n",
       "0     Private room    149               1                  9  2018-10-19   \n",
       "1  Entire home/apt    225               1                 45  2019-05-21   \n",
       "2     Private room    150               3                  0         NaN   \n",
       "3  Entire home/apt     89               1                270  2019-07-05   \n",
       "4  Entire home/apt     80              10                  9  2018-11-19   \n",
       "\n",
       "   reviews_per_month  calculated_host_listings_count  availability_365  \n",
       "0               0.21                               6               365  \n",
       "1               0.38                               2               355  \n",
       "2                NaN                               1               365  \n",
       "3               4.64                               1               194  \n",
       "4               0.10                               1                 0  "
      ]
     },
     "execution_count": 2,
     "metadata": {},
     "output_type": "execute_result"
    }
   ],
   "source": [
    "filepath = \"../input/new-york-city-airbnb-open-data/AB_NYC_2019.csv\"\n",
    "data_df = pd.read_csv(filepath)\n",
    "data_df.head() #see first rows"
   ]
  },
  {
   "cell_type": "code",
   "execution_count": 3,
   "id": "9bc9ba37",
   "metadata": {
    "execution": {
     "iopub.execute_input": "2021-09-18T15:54:54.750197Z",
     "iopub.status.busy": "2021-09-18T15:54:54.749560Z",
     "iopub.status.idle": "2021-09-18T15:54:54.757219Z",
     "shell.execute_reply": "2021-09-18T15:54:54.756702Z",
     "shell.execute_reply.started": "2021-09-18T15:17:12.376980Z"
    },
    "papermill": {
     "duration": 0.033912,
     "end_time": "2021-09-18T15:54:54.757360",
     "exception": false,
     "start_time": "2021-09-18T15:54:54.723448",
     "status": "completed"
    },
    "tags": []
   },
   "outputs": [
    {
     "data": {
      "text/plain": [
       "id                                  int64\n",
       "name                               object\n",
       "host_id                             int64\n",
       "host_name                          object\n",
       "neighbourhood_group                object\n",
       "neighbourhood                      object\n",
       "latitude                          float64\n",
       "longitude                         float64\n",
       "room_type                          object\n",
       "price                               int64\n",
       "minimum_nights                      int64\n",
       "number_of_reviews                   int64\n",
       "last_review                        object\n",
       "reviews_per_month                 float64\n",
       "calculated_host_listings_count      int64\n",
       "availability_365                    int64\n",
       "dtype: object"
      ]
     },
     "execution_count": 3,
     "metadata": {},
     "output_type": "execute_result"
    }
   ],
   "source": [
    "data_df.dtypes # Here we see that name, host name, neighbour, roomtype, last review (date)"
   ]
  },
  {
   "cell_type": "code",
   "execution_count": 4,
   "id": "87ba2cd1",
   "metadata": {
    "execution": {
     "iopub.execute_input": "2021-09-18T15:54:54.821263Z",
     "iopub.status.busy": "2021-09-18T15:54:54.820221Z",
     "iopub.status.idle": "2021-09-18T15:54:55.191670Z",
     "shell.execute_reply": "2021-09-18T15:54:55.191124Z",
     "shell.execute_reply.started": "2021-09-18T15:17:12.385780Z"
    },
    "papermill": {
     "duration": 0.40983,
     "end_time": "2021-09-18T15:54:55.191819",
     "exception": false,
     "start_time": "2021-09-18T15:54:54.781989",
     "status": "completed"
    },
    "tags": []
   },
   "outputs": [
    {
     "data": {
      "text/html": [
       "<div>\n",
       "<style scoped>\n",
       "    .dataframe tbody tr th:only-of-type {\n",
       "        vertical-align: middle;\n",
       "    }\n",
       "\n",
       "    .dataframe tbody tr th {\n",
       "        vertical-align: top;\n",
       "    }\n",
       "\n",
       "    .dataframe thead th {\n",
       "        text-align: right;\n",
       "    }\n",
       "</style>\n",
       "<table border=\"1\" class=\"dataframe\">\n",
       "  <thead>\n",
       "    <tr style=\"text-align: right;\">\n",
       "      <th></th>\n",
       "      <th>id</th>\n",
       "      <th>name</th>\n",
       "      <th>host_id</th>\n",
       "      <th>host_name</th>\n",
       "      <th>neighbourhood_group</th>\n",
       "      <th>neighbourhood</th>\n",
       "      <th>latitude</th>\n",
       "      <th>longitude</th>\n",
       "      <th>room_type</th>\n",
       "      <th>price</th>\n",
       "      <th>minimum_nights</th>\n",
       "      <th>number_of_reviews</th>\n",
       "      <th>last_review</th>\n",
       "      <th>reviews_per_month</th>\n",
       "      <th>calculated_host_listings_count</th>\n",
       "      <th>availability_365</th>\n",
       "    </tr>\n",
       "  </thead>\n",
       "  <tbody>\n",
       "    <tr>\n",
       "      <th>0</th>\n",
       "      <td>2539</td>\n",
       "      <td>clean_&amp;_quiet_apt_home_by_the_park</td>\n",
       "      <td>2787</td>\n",
       "      <td>john</td>\n",
       "      <td>brooklyn</td>\n",
       "      <td>kensington</td>\n",
       "      <td>40.64749</td>\n",
       "      <td>-73.97237</td>\n",
       "      <td>private_room</td>\n",
       "      <td>149</td>\n",
       "      <td>1</td>\n",
       "      <td>9</td>\n",
       "      <td>2018-10-19</td>\n",
       "      <td>0.21</td>\n",
       "      <td>6</td>\n",
       "      <td>365</td>\n",
       "    </tr>\n",
       "    <tr>\n",
       "      <th>1</th>\n",
       "      <td>2595</td>\n",
       "      <td>skylit_midtown_castle</td>\n",
       "      <td>2845</td>\n",
       "      <td>jennifer</td>\n",
       "      <td>manhattan</td>\n",
       "      <td>midtown</td>\n",
       "      <td>40.75362</td>\n",
       "      <td>-73.98377</td>\n",
       "      <td>entire_home/apt</td>\n",
       "      <td>225</td>\n",
       "      <td>1</td>\n",
       "      <td>45</td>\n",
       "      <td>2019-05-21</td>\n",
       "      <td>0.38</td>\n",
       "      <td>2</td>\n",
       "      <td>355</td>\n",
       "    </tr>\n",
       "    <tr>\n",
       "      <th>2</th>\n",
       "      <td>3647</td>\n",
       "      <td>the_village_of_harlem....new_york_!</td>\n",
       "      <td>4632</td>\n",
       "      <td>elisabeth</td>\n",
       "      <td>manhattan</td>\n",
       "      <td>harlem</td>\n",
       "      <td>40.80902</td>\n",
       "      <td>-73.94190</td>\n",
       "      <td>private_room</td>\n",
       "      <td>150</td>\n",
       "      <td>3</td>\n",
       "      <td>0</td>\n",
       "      <td>NaN</td>\n",
       "      <td>NaN</td>\n",
       "      <td>1</td>\n",
       "      <td>365</td>\n",
       "    </tr>\n",
       "    <tr>\n",
       "      <th>3</th>\n",
       "      <td>3831</td>\n",
       "      <td>cozy_entire_floor_of_brownstone</td>\n",
       "      <td>4869</td>\n",
       "      <td>lisaroxanne</td>\n",
       "      <td>brooklyn</td>\n",
       "      <td>clinton_hill</td>\n",
       "      <td>40.68514</td>\n",
       "      <td>-73.95976</td>\n",
       "      <td>entire_home/apt</td>\n",
       "      <td>89</td>\n",
       "      <td>1</td>\n",
       "      <td>270</td>\n",
       "      <td>2019-07-05</td>\n",
       "      <td>4.64</td>\n",
       "      <td>1</td>\n",
       "      <td>194</td>\n",
       "    </tr>\n",
       "    <tr>\n",
       "      <th>4</th>\n",
       "      <td>5022</td>\n",
       "      <td>entire_apt:_spacious_studio/loft_by_central_park</td>\n",
       "      <td>7192</td>\n",
       "      <td>laura</td>\n",
       "      <td>manhattan</td>\n",
       "      <td>east_harlem</td>\n",
       "      <td>40.79851</td>\n",
       "      <td>-73.94399</td>\n",
       "      <td>entire_home/apt</td>\n",
       "      <td>80</td>\n",
       "      <td>10</td>\n",
       "      <td>9</td>\n",
       "      <td>2018-11-19</td>\n",
       "      <td>0.10</td>\n",
       "      <td>1</td>\n",
       "      <td>0</td>\n",
       "    </tr>\n",
       "  </tbody>\n",
       "</table>\n",
       "</div>"
      ],
      "text/plain": [
       "     id                                              name  host_id  \\\n",
       "0  2539                clean_&_quiet_apt_home_by_the_park     2787   \n",
       "1  2595                             skylit_midtown_castle     2845   \n",
       "2  3647               the_village_of_harlem....new_york_!     4632   \n",
       "3  3831                   cozy_entire_floor_of_brownstone     4869   \n",
       "4  5022  entire_apt:_spacious_studio/loft_by_central_park     7192   \n",
       "\n",
       "     host_name neighbourhood_group neighbourhood  latitude  longitude  \\\n",
       "0         john            brooklyn    kensington  40.64749  -73.97237   \n",
       "1     jennifer           manhattan       midtown  40.75362  -73.98377   \n",
       "2    elisabeth           manhattan        harlem  40.80902  -73.94190   \n",
       "3  lisaroxanne            brooklyn  clinton_hill  40.68514  -73.95976   \n",
       "4        laura           manhattan   east_harlem  40.79851  -73.94399   \n",
       "\n",
       "         room_type  price  minimum_nights  number_of_reviews last_review  \\\n",
       "0     private_room    149               1                  9  2018-10-19   \n",
       "1  entire_home/apt    225               1                 45  2019-05-21   \n",
       "2     private_room    150               3                  0         NaN   \n",
       "3  entire_home/apt     89               1                270  2019-07-05   \n",
       "4  entire_home/apt     80              10                  9  2018-11-19   \n",
       "\n",
       "   reviews_per_month  calculated_host_listings_count  availability_365  \n",
       "0               0.21                               6               365  \n",
       "1               0.38                               2               355  \n",
       "2                NaN                               1               365  \n",
       "3               4.64                               1               194  \n",
       "4               0.10                               1                 0  "
      ]
     },
     "execution_count": 4,
     "metadata": {},
     "output_type": "execute_result"
    }
   ],
   "source": [
    "# Defining column name whose values are string/object\n",
    "stringData = list(data_df.dtypes[data_df.dtypes == \"object\"].index)\n",
    "for col in stringData:\n",
    "    data_df[col] = data_df[col].str.lower().str.replace(' ','_') #change each column data to lower with '_'\n",
    "data_df.head()"
   ]
  },
  {
   "cell_type": "markdown",
   "id": "7b5b72e8",
   "metadata": {
    "papermill": {
     "duration": 0.023669,
     "end_time": "2021-09-18T15:54:55.239785",
     "exception": false,
     "start_time": "2021-09-18T15:54:55.216116",
     "status": "completed"
    },
    "tags": []
   },
   "source": [
    "## Exploratory Data Analysis"
   ]
  },
  {
   "cell_type": "code",
   "execution_count": 5,
   "id": "6223d5e2",
   "metadata": {
    "execution": {
     "iopub.execute_input": "2021-09-18T15:54:55.295358Z",
     "iopub.status.busy": "2021-09-18T15:54:55.294708Z",
     "iopub.status.idle": "2021-09-18T15:54:55.383210Z",
     "shell.execute_reply": "2021-09-18T15:54:55.382632Z",
     "shell.execute_reply.started": "2021-09-18T15:17:12.769531Z"
    },
    "papermill": {
     "duration": 0.117992,
     "end_time": "2021-09-18T15:54:55.383347",
     "exception": false,
     "start_time": "2021-09-18T15:54:55.265355",
     "status": "completed"
    },
    "tags": []
   },
   "outputs": [
    {
     "name": "stdout",
     "output_type": "stream",
     "text": [
      "id 48895\n",
      "name 47486\n",
      "host_id 37457\n",
      "host_name 11428\n",
      "neighbourhood_group 5\n",
      "neighbourhood 221\n",
      "latitude 19048\n",
      "longitude 14718\n",
      "room_type 3\n",
      "price 674\n",
      "minimum_nights 109\n",
      "number_of_reviews 394\n",
      "last_review 1764\n",
      "reviews_per_month 937\n",
      "calculated_host_listings_count 47\n",
      "availability_365 366\n"
     ]
    }
   ],
   "source": [
    "# We  get the number of different values for each column as well as the first \n",
    "# 5 (it's not a ranking, just as they appear)\n",
    "for col in data_df.columns:\n",
    "    print(col, data_df[col].nunique())\n",
    "    #print(data_df[col].unique()[:5])\n",
    "    #print(data_df[col].nunique())\n",
    "# We see that neighbourhood group and room type belong to a group"
   ]
  },
  {
   "cell_type": "code",
   "execution_count": 6,
   "id": "2cf0f9bc",
   "metadata": {
    "execution": {
     "iopub.execute_input": "2021-09-18T15:54:55.456121Z",
     "iopub.status.busy": "2021-09-18T15:54:55.455314Z",
     "iopub.status.idle": "2021-09-18T15:54:56.735231Z",
     "shell.execute_reply": "2021-09-18T15:54:56.734169Z",
     "shell.execute_reply.started": "2021-09-18T15:17:12.857424Z"
    },
    "papermill": {
     "duration": 1.31831,
     "end_time": "2021-09-18T15:54:56.735397",
     "exception": false,
     "start_time": "2021-09-18T15:54:55.417087",
     "status": "completed"
    },
    "tags": []
   },
   "outputs": [
    {
     "name": "stdout",
     "output_type": "stream",
     "text": [
      "Maximum is: 10000\n"
     ]
    },
    {
     "data": {
      "text/plain": [
       "<AxesSubplot:xlabel='price', ylabel='Count'>"
      ]
     },
     "execution_count": 6,
     "metadata": {},
     "output_type": "execute_result"
    },
    {
     "data": {
      "image/png": "[encoded data removed]",
      "text/plain": [
       "<Figure size 432x288 with 1 Axes>"
      ]
     },
     "metadata": {
      "needs_background": "light"
     },
     "output_type": "display_data"
    }
   ],
   "source": [
    "# Visualizing price distribution\n",
    "import matplotlib.pyplot as plt\n",
    "import seaborn as sns\n",
    "#sns.histplot(data_df.price, bins=10)\n",
    "# Better visualization using filtering and bins attribute\n",
    "print(\"Maximum is:\",data_df.price.max())\n",
    "sns.histplot(data_df.price[data_df.price > 800], bins= 50)\n",
    "#we can see that it has a long tail while the max price value is 10000"
   ]
  },
  {
   "cell_type": "code",
   "execution_count": 7,
   "id": "ac33ce28",
   "metadata": {
    "execution": {
     "iopub.execute_input": "2021-09-18T15:54:56.795823Z",
     "iopub.status.busy": "2021-09-18T15:54:56.794729Z",
     "iopub.status.idle": "2021-09-18T15:54:57.106790Z",
     "shell.execute_reply": "2021-09-18T15:54:57.107251Z",
     "shell.execute_reply.started": "2021-09-18T15:17:13.177699Z"
    },
    "papermill": {
     "duration": 0.344666,
     "end_time": "2021-09-18T15:54:57.107431",
     "exception": false,
     "start_time": "2021-09-18T15:54:56.762765",
     "status": "completed"
    },
    "tags": []
   },
   "outputs": [
    {
     "data": {
      "text/plain": [
       "<AxesSubplot:xlabel='price', ylabel='Count'>"
      ]
     },
     "execution_count": 7,
     "metadata": {},
     "output_type": "execute_result"
    },
    {
     "data": {
      "image/png": "[encoded data removed]",
      "text/plain": [
       "<Figure size 432x288 with 1 Axes>"
      ]
     },
     "metadata": {
      "needs_background": "light"
     },
     "output_type": "display_data"
    }
   ],
   "source": [
    "# Change the scale of hour values to ln(values + 1)\n",
    "price_logs = np.log1p(data_df.price) # get a pandas series\n",
    "#print(type(price_logs))\n",
    "sns.histplot(price_logs, bins= 50)\n",
    "# when we get the log1p of our price, we see a normal distribution"
   ]
  },
  {
   "cell_type": "code",
   "execution_count": 8,
   "id": "792fbcbc",
   "metadata": {
    "execution": {
     "iopub.execute_input": "2021-09-18T15:54:57.170564Z",
     "iopub.status.busy": "2021-09-18T15:54:57.169515Z",
     "iopub.status.idle": "2021-09-18T15:54:57.178720Z",
     "shell.execute_reply": "2021-09-18T15:54:57.178210Z",
     "shell.execute_reply.started": "2021-09-18T15:17:13.527705Z"
    },
    "papermill": {
     "duration": 0.044314,
     "end_time": "2021-09-18T15:54:57.178864",
     "exception": false,
     "start_time": "2021-09-18T15:54:57.134550",
     "status": "completed"
    },
    "tags": []
   },
   "outputs": [
    {
     "name": "stdout",
     "output_type": "stream",
     "text": [
      "# Rows and columns: (48895, 16)\n"
     ]
    },
    {
     "data": {
      "text/plain": [
       "latitude                              0\n",
       "longitude                             0\n",
       "price                                 0\n",
       "minimum_nights                        0\n",
       "number_of_reviews                     0\n",
       "reviews_per_month                 10052\n",
       "calculated_host_listings_count        0\n",
       "availability_365                      0\n",
       "dtype: int64"
      ]
     },
     "execution_count": 8,
     "metadata": {},
     "output_type": "execute_result"
    }
   ],
   "source": [
    "base = ['latitude','longitude','price','minimum_nights','number_of_reviews',\n",
    "        'reviews_per_month','calculated_host_listings_count','availability_365']\n",
    "print(\"# Rows and columns:\",data_df.shape)\n",
    "data_df_filtered = data_df[base]\n",
    "data_df_filtered.isnull().sum()"
   ]
  },
  {
   "cell_type": "code",
   "execution_count": 9,
   "id": "6ef8cdc2",
   "metadata": {
    "execution": {
     "iopub.execute_input": "2021-09-18T15:54:57.239621Z",
     "iopub.status.busy": "2021-09-18T15:54:57.238525Z",
     "iopub.status.idle": "2021-09-18T15:54:57.249631Z",
     "shell.execute_reply": "2021-09-18T15:54:57.248950Z",
     "shell.execute_reply.started": "2021-09-18T15:32:19.732869Z"
    },
    "papermill": {
     "duration": 0.043363,
     "end_time": "2021-09-18T15:54:57.249780",
     "exception": false,
     "start_time": "2021-09-18T15:54:57.206417",
     "status": "completed"
    },
    "tags": []
   },
   "outputs": [
    {
     "data": {
      "text/plain": [
       "count    48895.000000\n",
       "mean         7.029962\n",
       "std         20.510550\n",
       "min          1.000000\n",
       "25%          1.000000\n",
       "50%          3.000000\n",
       "75%          5.000000\n",
       "max       1250.000000\n",
       "Name: minimum_nights, dtype: float64"
      ]
     },
     "execution_count": 9,
     "metadata": {},
     "output_type": "execute_result"
    }
   ],
   "source": [
    "# Get statistical data\n",
    "data_df['minimum_nights'].describe() #we see 50% percentile is 3.0"
   ]
  },
  {
   "cell_type": "markdown",
   "id": "ab0c627a",
   "metadata": {
    "papermill": {
     "duration": 0.027841,
     "end_time": "2021-09-18T15:54:57.305624",
     "exception": false,
     "start_time": "2021-09-18T15:54:57.277783",
     "status": "completed"
    },
    "tags": []
   },
   "source": [
    "## Setting up the validation data"
   ]
  },
  {
   "cell_type": "code",
   "execution_count": 10,
   "id": "ba41a88d",
   "metadata": {
    "execution": {
     "iopub.execute_input": "2021-09-18T15:54:57.365368Z",
     "iopub.status.busy": "2021-09-18T15:54:57.364403Z",
     "iopub.status.idle": "2021-09-18T15:54:57.372282Z",
     "shell.execute_reply": "2021-09-18T15:54:57.372790Z",
     "shell.execute_reply.started": "2021-09-18T15:17:13.557719Z"
    },
    "papermill": {
     "duration": 0.039482,
     "end_time": "2021-09-18T15:54:57.372974",
     "exception": false,
     "start_time": "2021-09-18T15:54:57.333492",
     "status": "completed"
    },
    "tags": []
   },
   "outputs": [],
   "source": [
    "# Calculating the number of rows per data group\n",
    "n = len(data_df_filtered)\n",
    "n_val = int(n*0.2)\n",
    "n_test = int(n*0.2)\n",
    "n_train = n - n_val - n_test\n",
    "\n",
    "# shuffling the range of indexes\n",
    "idx = np.arange(n)\n",
    "np.random.seed(42)\n",
    "np.random.shuffle(idx)"
   ]
  },
  {
   "cell_type": "code",
   "execution_count": 11,
   "id": "106839d6",
   "metadata": {
    "execution": {
     "iopub.execute_input": "2021-09-18T15:54:57.432653Z",
     "iopub.status.busy": "2021-09-18T15:54:57.431614Z",
     "iopub.status.idle": "2021-09-18T15:54:57.447573Z",
     "shell.execute_reply": "2021-09-18T15:54:57.446959Z",
     "shell.execute_reply.started": "2021-09-18T15:20:46.290203Z"
    },
    "papermill": {
     "duration": 0.046776,
     "end_time": "2021-09-18T15:54:57.447709",
     "exception": false,
     "start_time": "2021-09-18T15:54:57.400933",
     "status": "completed"
    },
    "tags": []
   },
   "outputs": [
    {
     "data": {
      "text/plain": [
       "(29337, 9779, 9779)"
      ]
     },
     "execution_count": 11,
     "metadata": {},
     "output_type": "execute_result"
    }
   ],
   "source": [
    "# Split the data\n",
    "df_train = data_df_filtered.iloc[idx[:n_train]]\n",
    "df_val = data_df_filtered.iloc[idx[n_train:n_train+n_val]]\n",
    "df_test = data_df_filtered.iloc[idx[n_train+n_val:]]\n",
    "len(df_train), len(df_val), len(df_test)"
   ]
  },
  {
   "cell_type": "code",
   "execution_count": 12,
   "id": "507356ed",
   "metadata": {
    "execution": {
     "iopub.execute_input": "2021-09-18T15:54:57.510422Z",
     "iopub.status.busy": "2021-09-18T15:54:57.509264Z",
     "iopub.status.idle": "2021-09-18T15:54:57.515194Z",
     "shell.execute_reply": "2021-09-18T15:54:57.514511Z",
     "shell.execute_reply.started": "2021-09-18T15:17:13.588821Z"
    },
    "papermill": {
     "duration": 0.039311,
     "end_time": "2021-09-18T15:54:57.515339",
     "exception": false,
     "start_time": "2021-09-18T15:54:57.476028",
     "status": "completed"
    },
    "tags": []
   },
   "outputs": [],
   "source": [
    "df_train = df_train.reset_index(drop = True)\n",
    "df_val = df_val.reset_index(drop = True)\n",
    "df_test = df_test.reset_index(drop = True)"
   ]
  },
  {
   "cell_type": "code",
   "execution_count": 13,
   "id": "7aa2d59a",
   "metadata": {
    "execution": {
     "iopub.execute_input": "2021-09-18T15:54:57.577965Z",
     "iopub.status.busy": "2021-09-18T15:54:57.577017Z",
     "iopub.status.idle": "2021-09-18T15:54:57.580967Z",
     "shell.execute_reply": "2021-09-18T15:54:57.581401Z",
     "shell.execute_reply.started": "2021-09-18T15:17:13.598224Z"
    },
    "papermill": {
     "duration": 0.037968,
     "end_time": "2021-09-18T15:54:57.581600",
     "exception": false,
     "start_time": "2021-09-18T15:54:57.543632",
     "status": "completed"
    },
    "tags": []
   },
   "outputs": [],
   "source": [
    "y_train = np.log1p(df_train.price.values) # Our output is a numpy array\n",
    "y_val = np.log1p(df_val.price.values)\n",
    "y_test = np.log1p(df_test.price.values)"
   ]
  },
  {
   "cell_type": "code",
   "execution_count": 14,
   "id": "f1a3266e",
   "metadata": {
    "execution": {
     "iopub.execute_input": "2021-09-18T15:54:57.645113Z",
     "iopub.status.busy": "2021-09-18T15:54:57.644196Z",
     "iopub.status.idle": "2021-09-18T15:54:57.647251Z",
     "shell.execute_reply": "2021-09-18T15:54:57.646659Z",
     "shell.execute_reply.started": "2021-09-18T15:24:52.778905Z"
    },
    "papermill": {
     "duration": 0.03737,
     "end_time": "2021-09-18T15:54:57.647385",
     "exception": false,
     "start_time": "2021-09-18T15:54:57.610015",
     "status": "completed"
    },
    "tags": []
   },
   "outputs": [],
   "source": [
    "# we delete the price column after extracting our desired output\n",
    "del df_train['price']\n",
    "del df_val['price']\n",
    "del df_test['price']"
   ]
  },
  {
   "cell_type": "code",
   "execution_count": 15,
   "id": "a49ca8c7",
   "metadata": {
    "execution": {
     "iopub.execute_input": "2021-09-18T15:54:57.717098Z",
     "iopub.status.busy": "2021-09-18T15:54:57.716203Z",
     "iopub.status.idle": "2021-09-18T15:54:57.720062Z",
     "shell.execute_reply": "2021-09-18T15:54:57.720515Z",
     "shell.execute_reply.started": "2021-09-18T15:25:03.265817Z"
    },
    "papermill": {
     "duration": 0.044924,
     "end_time": "2021-09-18T15:54:57.720688",
     "exception": false,
     "start_time": "2021-09-18T15:54:57.675764",
     "status": "completed"
    },
    "tags": []
   },
   "outputs": [
    {
     "data": {
      "text/html": [
       "<div>\n",
       "<style scoped>\n",
       "    .dataframe tbody tr th:only-of-type {\n",
       "        vertical-align: middle;\n",
       "    }\n",
       "\n",
       "    .dataframe tbody tr th {\n",
       "        vertical-align: top;\n",
       "    }\n",
       "\n",
       "    .dataframe thead th {\n",
       "        text-align: right;\n",
       "    }\n",
       "</style>\n",
       "<table border=\"1\" class=\"dataframe\">\n",
       "  <thead>\n",
       "    <tr style=\"text-align: right;\">\n",
       "      <th></th>\n",
       "      <th>latitude</th>\n",
       "      <th>longitude</th>\n",
       "      <th>minimum_nights</th>\n",
       "      <th>number_of_reviews</th>\n",
       "      <th>reviews_per_month</th>\n",
       "      <th>calculated_host_listings_count</th>\n",
       "      <th>availability_365</th>\n",
       "    </tr>\n",
       "  </thead>\n",
       "  <tbody>\n",
       "    <tr>\n",
       "      <th>0</th>\n",
       "      <td>40.64354</td>\n",
       "      <td>-73.97777</td>\n",
       "      <td>3</td>\n",
       "      <td>62</td>\n",
       "      <td>0.71</td>\n",
       "      <td>1</td>\n",
       "      <td>189</td>\n",
       "    </tr>\n",
       "    <tr>\n",
       "      <th>1</th>\n",
       "      <td>40.70666</td>\n",
       "      <td>-73.90779</td>\n",
       "      <td>21</td>\n",
       "      <td>0</td>\n",
       "      <td>NaN</td>\n",
       "      <td>1</td>\n",
       "      <td>73</td>\n",
       "    </tr>\n",
       "    <tr>\n",
       "      <th>2</th>\n",
       "      <td>40.76116</td>\n",
       "      <td>-73.99016</td>\n",
       "      <td>2</td>\n",
       "      <td>17</td>\n",
       "      <td>0.43</td>\n",
       "      <td>1</td>\n",
       "      <td>0</td>\n",
       "    </tr>\n",
       "    <tr>\n",
       "      <th>3</th>\n",
       "      <td>40.70763</td>\n",
       "      <td>-74.01050</td>\n",
       "      <td>2</td>\n",
       "      <td>5</td>\n",
       "      <td>1.88</td>\n",
       "      <td>327</td>\n",
       "      <td>272</td>\n",
       "    </tr>\n",
       "    <tr>\n",
       "      <th>4</th>\n",
       "      <td>40.79658</td>\n",
       "      <td>-73.93287</td>\n",
       "      <td>2</td>\n",
       "      <td>30</td>\n",
       "      <td>0.80</td>\n",
       "      <td>1</td>\n",
       "      <td>30</td>\n",
       "    </tr>\n",
       "  </tbody>\n",
       "</table>\n",
       "</div>"
      ],
      "text/plain": [
       "   latitude  longitude  minimum_nights  number_of_reviews  reviews_per_month  \\\n",
       "0  40.64354  -73.97777               3                 62               0.71   \n",
       "1  40.70666  -73.90779              21                  0                NaN   \n",
       "2  40.76116  -73.99016               2                 17               0.43   \n",
       "3  40.70763  -74.01050               2                  5               1.88   \n",
       "4  40.79658  -73.93287               2                 30               0.80   \n",
       "\n",
       "   calculated_host_listings_count  availability_365  \n",
       "0                               1               189  \n",
       "1                               1                73  \n",
       "2                               1                 0  \n",
       "3                             327               272  \n",
       "4                               1                30  "
      ]
     },
     "execution_count": 15,
     "metadata": {},
     "output_type": "execute_result"
    }
   ],
   "source": [
    "df_train.head()"
   ]
  },
  {
   "cell_type": "markdown",
   "id": "3ce8a9a6",
   "metadata": {
    "papermill": {
     "duration": 0.030349,
     "end_time": "2021-09-18T15:54:57.780090",
     "exception": false,
     "start_time": "2021-09-18T15:54:57.749741",
     "status": "completed"
    },
    "tags": []
   },
   "source": [
    "## Question : training with a fillna variation"
   ]
  },
  {
   "cell_type": "code",
   "execution_count": 16,
   "id": "75f5d0b7",
   "metadata": {
    "execution": {
     "iopub.execute_input": "2021-09-18T15:54:57.844767Z",
     "iopub.status.busy": "2021-09-18T15:54:57.844083Z",
     "iopub.status.idle": "2021-09-18T15:54:57.846532Z",
     "shell.execute_reply": "2021-09-18T15:54:57.846002Z",
     "shell.execute_reply.started": "2021-09-18T15:17:13.632405Z"
    },
    "papermill": {
     "duration": 0.03787,
     "end_time": "2021-09-18T15:54:57.846721",
     "exception": false,
     "start_time": "2021-09-18T15:54:57.808851",
     "status": "completed"
    },
    "tags": []
   },
   "outputs": [],
   "source": [
    "# Defining linear regression training without regularization\n",
    "def train_linear_regression(X, y):\n",
    "    ones = np.ones(X.shape[0])\n",
    "    X = np.column_stack([ones, X])\n",
    "    \n",
    "    XTX = X.T.dot(X)\n",
    "    XTX_inv = np.linalg.inv(XTX)\n",
    "    w_full = XTX_inv.dot(X.T).dot(y)\n",
    "    return w_full[0], w_full[1:] "
   ]
  },
  {
   "cell_type": "code",
   "execution_count": 17,
   "id": "bef0baee",
   "metadata": {
    "execution": {
     "iopub.execute_input": "2021-09-18T15:54:57.911322Z",
     "iopub.status.busy": "2021-09-18T15:54:57.910642Z",
     "iopub.status.idle": "2021-09-18T15:54:57.913733Z",
     "shell.execute_reply": "2021-09-18T15:54:57.913200Z",
     "shell.execute_reply.started": "2021-09-18T15:17:13.647301Z"
    },
    "papermill": {
     "duration": 0.037748,
     "end_time": "2021-09-18T15:54:57.913871",
     "exception": false,
     "start_time": "2021-09-18T15:54:57.876123",
     "status": "completed"
    },
    "tags": []
   },
   "outputs": [],
   "source": [
    "# Defining function to get root mean squared error\n",
    "def rmse(y, y_pred):\n",
    "    se = (y - y_pred)**2\n",
    "    mse = se.mean()\n",
    "    return np.sqrt(mse)"
   ]
  },
  {
   "cell_type": "code",
   "execution_count": 18,
   "id": "1c71ca36",
   "metadata": {
    "execution": {
     "iopub.execute_input": "2021-09-18T15:54:57.978341Z",
     "iopub.status.busy": "2021-09-18T15:54:57.977660Z",
     "iopub.status.idle": "2021-09-18T15:54:57.980745Z",
     "shell.execute_reply": "2021-09-18T15:54:57.980196Z",
     "shell.execute_reply.started": "2021-09-18T15:25:23.431439Z"
    },
    "papermill": {
     "duration": 0.03812,
     "end_time": "2021-09-18T15:54:57.980889",
     "exception": false,
     "start_time": "2021-09-18T15:54:57.942769",
     "status": "completed"
    },
    "tags": []
   },
   "outputs": [],
   "source": [
    "base_train = ['latitude','longitude','minimum_nights','number_of_reviews',\n",
    "        'reviews_per_month','calculated_host_listings_count','availability_365']\n",
    "def prepare_X(df,nFill): #This function is build to make it readable\n",
    "    df = df.copy() # we make a copy to make functional programming with data and features\n",
    "    features = base_train.copy()\n",
    "    \n",
    "    df_num = df[features]\n",
    "    df_num = df_num.fillna(nFill)\n",
    "    X = df_num.values\n",
    "    return X"
   ]
  },
  {
   "cell_type": "code",
   "execution_count": 19,
   "id": "47ed9163",
   "metadata": {
    "execution": {
     "iopub.execute_input": "2021-09-18T15:54:58.045185Z",
     "iopub.status.busy": "2021-09-18T15:54:58.044497Z",
     "iopub.status.idle": "2021-09-18T15:54:58.062031Z",
     "shell.execute_reply": "2021-09-18T15:54:58.061048Z",
     "shell.execute_reply.started": "2021-09-18T15:25:26.679089Z"
    },
    "papermill": {
     "duration": 0.052491,
     "end_time": "2021-09-18T15:54:58.062242",
     "exception": false,
     "start_time": "2021-09-18T15:54:58.009751",
     "status": "completed"
    },
    "tags": []
   },
   "outputs": [
    {
     "name": "stdout",
     "output_type": "stream",
     "text": [
      "0.64\n"
     ]
    }
   ],
   "source": [
    "# training with values of 0 for fillna\n",
    "X_train = prepare_X(df_train,0)\n",
    "w0, w = train_linear_regression(X_train, y_train) #training oru model again\n",
    "\n",
    "X_val = prepare_X(df_val,0)\n",
    "y_pred = w0 + X_val.dot(w)\n",
    "rmse_fill0 =round(rmse(y_val, y_pred),2)\n",
    "print(rmse_fill0)"
   ]
  },
  {
   "cell_type": "code",
   "execution_count": 20,
   "id": "f80a62d5",
   "metadata": {
    "execution": {
     "iopub.execute_input": "2021-09-18T15:54:58.174031Z",
     "iopub.status.busy": "2021-09-18T15:54:58.169117Z",
     "iopub.status.idle": "2021-09-18T15:54:58.190990Z",
     "shell.execute_reply": "2021-09-18T15:54:58.191946Z",
     "shell.execute_reply.started": "2021-09-18T15:25:37.368060Z"
    },
    "papermill": {
     "duration": 0.078915,
     "end_time": "2021-09-18T15:54:58.192238",
     "exception": false,
     "start_time": "2021-09-18T15:54:58.113323",
     "status": "completed"
    },
    "tags": []
   },
   "outputs": [
    {
     "name": "stdout",
     "output_type": "stream",
     "text": [
      "0.64\n"
     ]
    }
   ],
   "source": [
    "# training with values of mean for fillna\n",
    "mean_reviews = df_train['reviews_per_month'].mean()\n",
    "\n",
    "X_train = prepare_X(df_train,mean_reviews)\n",
    "w0, w = train_linear_regression(X_train, y_train) #training oru model again\n",
    "\n",
    "X_val = prepare_X(df_val,mean_reviews)\n",
    "y_pred = w0 + X_val.dot(w)\n",
    "rmse_fillmean = round(rmse(y_val, y_pred),2)\n",
    "print(rmse_fillmean)"
   ]
  },
  {
   "cell_type": "markdown",
   "id": "a057e400",
   "metadata": {
    "papermill": {
     "duration": 0.05455,
     "end_time": "2021-09-18T15:54:58.301805",
     "exception": false,
     "start_time": "2021-09-18T15:54:58.247255",
     "status": "completed"
    },
    "tags": []
   },
   "source": [
    "## Question 4 : regularization"
   ]
  },
  {
   "cell_type": "code",
   "execution_count": 21,
   "id": "c1f0dfdb",
   "metadata": {
    "execution": {
     "iopub.execute_input": "2021-09-18T15:54:58.372204Z",
     "iopub.status.busy": "2021-09-18T15:54:58.371497Z",
     "iopub.status.idle": "2021-09-18T15:54:58.373420Z",
     "shell.execute_reply": "2021-09-18T15:54:58.374015Z",
     "shell.execute_reply.started": "2021-09-18T15:28:04.681288Z"
    },
    "papermill": {
     "duration": 0.039481,
     "end_time": "2021-09-18T15:54:58.374195",
     "exception": false,
     "start_time": "2021-09-18T15:54:58.334714",
     "status": "completed"
    },
    "tags": []
   },
   "outputs": [],
   "source": [
    "# we define our new regression training\n",
    "def train_linear_regression_reg(X, y, r=0.001):\n",
    "    ones = np.ones(X.shape[0])\n",
    "    X = np.column_stack([ones, X])\n",
    "\n",
    "    XTX = X.T.dot(X)\n",
    "    XTX = XTX + r * np.eye(XTX.shape[0])\n",
    "\n",
    "    XTX_inv = np.linalg.inv(XTX)\n",
    "    w_full = XTX_inv.dot(X.T).dot(y)\n",
    "    \n",
    "    return w_full[0], w_full[1:]"
   ]
  },
  {
   "cell_type": "code",
   "execution_count": 22,
   "id": "facb1703",
   "metadata": {
    "execution": {
     "iopub.execute_input": "2021-09-18T15:54:58.438777Z",
     "iopub.status.busy": "2021-09-18T15:54:58.438014Z",
     "iopub.status.idle": "2021-09-18T15:54:58.554154Z",
     "shell.execute_reply": "2021-09-18T15:54:58.555644Z",
     "shell.execute_reply.started": "2021-09-18T15:30:43.830785Z"
    },
    "papermill": {
     "duration": 0.151955,
     "end_time": "2021-09-18T15:54:58.555997",
     "exception": false,
     "start_time": "2021-09-18T15:54:58.404042",
     "status": "completed"
    },
    "tags": []
   },
   "outputs": [
    {
     "name": "stdout",
     "output_type": "stream",
     "text": [
      "0 gives a rmse: 0.6430337788500516\n",
      "1e-06 gives a rmse: 0.6430341157454865\n",
      "0.0001 gives a rmse: 0.6430723153526027\n",
      "0.001 gives a rmse: 0.6437669735263444\n",
      "0.01 gives a rmse: 0.6557528427439105\n",
      "0.1 gives a rmse: 0.6773299642451833\n",
      "1 gives a rmse: 0.6823116950157312\n",
      "5 gives a rmse: 0.6827915727840732\n",
      "10 gives a rmse: 0.6828430212097046\n"
     ]
    }
   ],
   "source": [
    "for r in [0, 0.000001, 0.0001, 0.001, 0.01, 0.1, 1, 5, 10]:\n",
    "    X_train = prepare_X(df_train,0)\n",
    "    w0, w = train_linear_regression_reg(X_train, y_train, r=r)\n",
    "\n",
    "    X_val = prepare_X(df_val,0)\n",
    "    y_pred = w0 + X_val.dot(w)\n",
    "    score =rmse(y_val, y_pred)\n",
    "    \n",
    "    print(r,\"gives a rmse:\", score)"
   ]
  },
  {
   "cell_type": "markdown",
   "id": "884a6121",
   "metadata": {
    "papermill": {
     "duration": 0.054485,
     "end_time": "2021-09-18T15:54:58.666913",
     "exception": false,
     "start_time": "2021-09-18T15:54:58.612428",
     "status": "completed"
    },
    "tags": []
   },
   "source": [
    "## Question 5: trying different values for the seed"
   ]
  },
  {
   "cell_type": "code",
   "execution_count": 23,
   "id": "6ecf5e90",
   "metadata": {
    "execution": {
     "iopub.execute_input": "2021-09-18T15:54:58.737093Z",
     "iopub.status.busy": "2021-09-18T15:54:58.736037Z",
     "iopub.status.idle": "2021-09-18T15:54:58.973444Z",
     "shell.execute_reply": "2021-09-18T15:54:58.974452Z",
     "shell.execute_reply.started": "2021-09-18T15:43:51.652405Z"
    },
    "papermill": {
     "duration": 0.277117,
     "end_time": "2021-09-18T15:54:58.974736",
     "exception": false,
     "start_time": "2021-09-18T15:54:58.697619",
     "status": "completed"
    },
    "tags": []
   },
   "outputs": [
    {
     "name": "stdout",
     "output_type": "stream",
     "text": [
      "0 gives a rmse: 0.6549779960887462\n",
      "1 gives a rmse: 0.6462523685757932\n",
      "2 gives a rmse: 0.6476558177137809\n",
      "3 gives a rmse: 0.6375145070348596\n",
      "4 gives a rmse: 0.6445809083518486\n",
      "5 gives a rmse: 0.6305809996967069\n",
      "6 gives a rmse: 0.6297851918260075\n",
      "7 gives a rmse: 0.6506184266465503\n",
      "8 gives a rmse: 0.6489780353303394\n",
      "9 gives a rmse: 0.6437565168390085\n",
      "0.008\n"
     ]
    }
   ],
   "source": [
    "rmse_array = []\n",
    "# shuffling the range of indexes\n",
    "for seed in [0, 1, 2, 3, 4, 5, 6, 7, 8, 9]:\n",
    "    idx = np.arange(n)\n",
    "    np.random.seed(seed)\n",
    "    np.random.shuffle(idx)\n",
    "\n",
    "    df_train = data_df_filtered.iloc[idx[:n_train]]\n",
    "    df_val = data_df_filtered.iloc[idx[n_train:n_train+n_val]]\n",
    "\n",
    "    df_train = df_train.reset_index(drop = True)\n",
    "    df_val = df_val.reset_index(drop = True)\n",
    "\n",
    "    y_train = np.log1p(df_train.price.values) # Our output is a numpy array\n",
    "    y_val = np.log1p(df_val.price.values)\n",
    "\n",
    "    del df_train['price']\n",
    "    del df_val['price']\n",
    "    \n",
    "    X_train = prepare_X(df_train,0)\n",
    "    w0, w = train_linear_regression(X_train, y_train)\n",
    "\n",
    "    X_val = prepare_X(df_val,0)\n",
    "    y_pred = w0 + X_val.dot(w)\n",
    "    score =rmse(y_val, y_pred)\n",
    "    rmse_array.append(score)\n",
    "    print(seed,\"gives a rmse:\", score)\n",
    "stdSeed = np.std(rmse_array)\n",
    "print(round(stdSeed,3))"
   ]
  },
  {
   "cell_type": "code",
   "execution_count": 24,
   "id": "985475c2",
   "metadata": {
    "execution": {
     "iopub.execute_input": "2021-09-18T15:54:59.097536Z",
     "iopub.status.busy": "2021-09-18T15:54:59.095554Z",
     "iopub.status.idle": "2021-09-18T15:54:59.127878Z",
     "shell.execute_reply": "2021-09-18T15:54:59.129132Z",
     "shell.execute_reply.started": "2021-09-18T15:54:21.470464Z"
    },
    "papermill": {
     "duration": 0.099868,
     "end_time": "2021-09-18T15:54:59.129468",
     "exception": false,
     "start_time": "2021-09-18T15:54:59.029600",
     "status": "completed"
    },
    "tags": []
   },
   "outputs": [
    {
     "name": "stdout",
     "output_type": "stream",
     "text": [
      "0.65\n"
     ]
    }
   ],
   "source": [
    "idx = np.arange(n)\n",
    "np.random.seed(9)\n",
    "np.random.shuffle(idx)\n",
    "\n",
    "df_train = data_df_filtered.iloc[idx[:n_train]]\n",
    "df_val = data_df_filtered.iloc[idx[n_train:n_train+n_val]]\n",
    "df_test = data_df_filtered.iloc[idx[n_train+n_val:]]\n",
    "\n",
    "df_train = df_train.reset_index(drop = True)\n",
    "df_val = df_val.reset_index(drop = True)\n",
    "df_test = df_test.reset_index(drop = True)\n",
    "\n",
    "y_train = np.log1p(df_train.price.values) # Our output is a numpy array\n",
    "y_val = np.log1p(df_val.price.values)\n",
    "y_test = np.log1p(df_test.price.values)\n",
    "\n",
    "y_full_train = np.concatenate([y_train, y_val])\n",
    "\n",
    "del df_train['price']\n",
    "del df_val['price']\n",
    "del df_test['price']\n",
    "    \n",
    "df_full_train = pd.concat([df_train, df_val])\n",
    "df_full_train = df_full_train.reset_index(drop=True)\n",
    "\n",
    "X_full_train = prepare_X(df_full_train,0)\n",
    "w0, w = train_linear_regression_reg(X_full_train, y_full_train, r = 0.001)\n",
    "\n",
    "X_test = prepare_X(df_test, 0)\n",
    "y_pred = w0 + X_test.dot(w)\n",
    "score = rmse(y_test, y_pred)\n",
    "\n",
    "print(round(score,2))"
   ]
  }
 ],
 "metadata": {
  "kernelspec": {
   "display_name": "Python 3",
   "language": "python",
   "name": "python3"
  },
  "language_info": {
   "codemirror_mode": {
    "name": "ipython",
    "version": 3
   },
   "file_extension": ".py",
   "mimetype": "text/x-python",
   "name": "python",
   "nbconvert_exporter": "python",
   "pygments_lexer": "ipython3",
   "version": "3.7.10"
  },
  "papermill": {
   "default_parameters": {},
   "duration": 14.818378,
   "end_time": "2021-09-18T15:55:00.781295",
   "environment_variables": {},
   "exception": null,
   "input_path": "__notebook__.ipynb",
   "output_path": "__notebook__.ipynb",
   "parameters": {},
   "start_time": "2021-09-18T15:54:45.962917",
   "version": "2.3.3"
  }
 },
 "nbformat": 4,
 "nbformat_minor": 5
}
